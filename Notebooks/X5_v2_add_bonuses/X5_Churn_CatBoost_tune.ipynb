{
 "cells": [
  {
   "cell_type": "code",
   "execution_count": 1,
   "metadata": {},
   "outputs": [],
   "source": [
    "\n",
    "import pandas as pd \n",
    "from catboost import CatBoostClassifier, CatBoostRegressor\n",
    "from sklearn.model_selection import StratifiedKFold,  GridSearchCV, KFold\n",
    "from sklearn.ensemble import RandomForestRegressor\n",
    "from sklearn.naive_bayes import GaussianNB\n",
    "from sklearn.metrics import roc_auc_score, accuracy_score\n",
    "from sklearn.model_selection import train_test_split\n",
    "import matplotlib.pyplot as plt\n",
    "import numpy as np\n",
    "from tqdm import tqdm\n",
    "import gc\n",
    "from tune_sklearn import TuneSearchCV\n"
   ]
  },
  {
   "attachments": {},
   "cell_type": "markdown",
   "metadata": {},
   "source": [
    "# Обучение модели с CatBoost на данных с методом трансформации классов"
   ]
  },
  {
   "cell_type": "code",
   "execution_count": 2,
   "metadata": {},
   "outputs": [],
   "source": [
    "df= pd.read_csv(r'X5_clients_data_train.csv', sep = ';')\n",
    "med = df.age.median()\n",
    "df.age = df.age.apply(lambda x: x if((x >= 16) and (x <= 90)) else med)\n",
    "df.age = df.age.fillna(med)\n",
    "df.Mean_diffs = df.Mean_diffs.fillna(df.Mean_diffs.median()) \n",
    "df = df.fillna(0)\n",
    "df.describe()\n",
    "display(df)"
   ]
  },
  {
   "cell_type": "code",
   "execution_count": null,
   "metadata": {},
   "outputs": [
    {
     "data": {
      "text/plain": [
       "array([0, 1, 1, ..., 0, 1, 0], dtype=int64)"
      ]
     },
     "execution_count": 3,
     "metadata": {},
     "output_type": "execute_result"
    }
   ],
   "source": [
    "df = df.drop(['MeanItemCost', 'client_id'\n",
    "                , 'Mean_TOP_1_BRAND'\n",
    "                ,\t'Mean_TOP_2_BRAND'\n",
    "                ,\t'Mean_TOP_3_BRAND'\n",
    "                ,\t'Mean_TOP_4_BRAND',\n",
    "                \t'Mean_TOP_5_BRAND',\n",
    "                    'Mean_TOP_1_SEG',\n",
    "                    'Mean_TOP_2_SEG',\n",
    "                    'Mean_TOP_3_SEG',\n",
    "                    'Mean_TOP_4_SEG',\n",
    "                    'Mean_TOP_5_SEG',\n",
    "                    'first_order_date'\t], axis = 1)\n",
    "# X = df.iloc[:, 0:-1].set_index('client_id')\n",
    "# y = df.iloc[:, [0, -1]].set_index('client_id')\n",
    "# del df\n",
    "# gc.collect()\n",
    "treat = df.treatment_flg.values\n",
    "targ = df.target.values\n",
    "treat"
   ]
  },
  {
   "cell_type": "code",
   "execution_count": null,
   "metadata": {},
   "outputs": [
    {
     "name": "stdout",
     "output_type": "stream",
     "text": [
      "[[-0.14500764 -0.15234497 -0.15234497 ... -0.14118879 -0.15234497\n",
      "  -0.15277405]\n",
      " [-0.14324839 -0.15234497 -0.14977047 ... -0.13732704 -0.15234497\n",
      "  -0.15277405]\n",
      " [-0.14110297 -0.15234497 -0.15234497 ... -0.14247604 -0.1514868\n",
      "  -0.15234497]\n",
      " ...\n",
      " [-0.1438062  -0.15234497 -0.13689795 ... -0.13389437 -0.15234497\n",
      "  -0.15277405]\n",
      " [-0.14715306 -0.15234497 -0.15234497 ... -0.13990154 -0.15234497\n",
      "  -0.15234497]\n",
      " [-0.12085022 -0.15234497 -0.15234497 ... -0.14161787 -0.15234497\n",
      "  -0.15277405]]\n",
      "[-1.99923045  0.          0.         ... -1.99923045  0.\n",
      " -1.99923045]\n",
      "0.4998075375301816\n"
     ]
    }
   ],
   "source": [
    "\n",
    "p = df[df.treatment_flg == 1].shape[0] / df.shape[0]\n",
    "X = df.iloc[:, 0:-2].values\n",
    "X = (X - X.mean()) / X.std()\n",
    "y = df.target * (df.treatment_flg - p) / (1- p) / p\n",
    "y = y.values\n",
    "del df\n",
    "gc.collect()\n",
    "print(X)\n",
    "print(y)\n",
    "print(p)\n",
    "# X_train, X_test, y_train, y_test = train_test_split(X, y)\n",
    "# output.enable_custom_widget_manager()\n",
    "# grid = {'learning_rate':  np.linspace(0, 0.05, 10)[1:-1],\n",
    "#         'depth': [4, 6, 10],\n",
    "#         'l2_leaf_reg': [1, 3, 5, 7, 9]}\n",
    "# clf = CatBoostClassifier(verbose = 0)  \n",
    "# grid_search_result = clf.grid_search(grid, \n",
    "#                                        X=X_train, \n",
    "#                                        y=y_train, \n",
    "#                                        plot=True)\n",
    "from sklift.metrics import (\n",
    "    uplift_at_k, uplift_auc_score, qini_auc_score, weighted_average_uplift\n",
    ")\n",
    "\n",
    "from sklift.viz import plot_qini_curve, plot_uplift_curve, plot_uplift_by_percentile\n",
    "import matplotlib.pyplot as plt\n"
   ]
  },
  {
   "cell_type": "code",
   "execution_count": null,
   "metadata": {},
   "outputs": [],
   "source": [
    "\n",
    "X_train,X_test,y_train,y_test= train_test_split(X, y)"
   ]
  },
  {
   "cell_type": "code",
   "execution_count": null,
   "metadata": {},
   "outputs": [],
   "source": [
    "\n",
    "\n",
    "param_grid = {\n",
    "    'max_depth': [2, 4, 6, 10, 20],\n",
    "    \n",
    "    'min_data_in_leaf': [1, 2, 3, 4, 6],\n",
    "    'min_child_samples': [2, 4, 8],\n",
    "    'n_estimators': [10, 50, 100]\n",
    "}# Create a based model\n",
    "rf = CatBoostRegressor(verbose = 1)# Instantiate the grid search model\n",
    "grid_search = TuneSearchCV(estimator = rf, param_distributions= param_grid, \n",
    "                           n_jobs = 4, verbose = 2)"
   ]
  },
  {
   "cell_type": "code",
   "execution_count": null,
   "metadata": {},
   "outputs": [
    {
     "name": "stderr",
     "output_type": "stream",
     "text": [
      "2022-12-26 15:48:52,306\tINFO worker.py:1538 -- Started a local Ray instance.\n"
     ]
    },
    {
     "ename": "KeyboardInterrupt",
     "evalue": "",
     "output_type": "error",
     "traceback": [
      "\u001b[1;31m---------------------------------------------------------------------------\u001b[0m",
      "\u001b[1;31mKeyboardInterrupt\u001b[0m                         Traceback (most recent call last)",
      "Cell \u001b[1;32mIn[8], line 1\u001b[0m\n\u001b[1;32m----> 1\u001b[0m grid_search\u001b[39m.\u001b[39;49mfit(X_train, y_train)\n",
      "File \u001b[1;32mc:\\ProgramData\\Anaconda3\\envs\\TuneSearch\\lib\\site-packages\\tune_sklearn\\tune_basesearch.py:621\u001b[0m, in \u001b[0;36mTuneBaseSearchCV.fit\u001b[1;34m(self, X, y, groups, tune_params, **fit_params)\u001b[0m\n\u001b[0;32m    596\u001b[0m \u001b[39mdef\u001b[39;00m \u001b[39mfit\u001b[39m(\u001b[39mself\u001b[39m, X, y\u001b[39m=\u001b[39m\u001b[39mNone\u001b[39;00m, groups\u001b[39m=\u001b[39m\u001b[39mNone\u001b[39;00m, tune_params\u001b[39m=\u001b[39m\u001b[39mNone\u001b[39;00m, \u001b[39m*\u001b[39m\u001b[39m*\u001b[39mfit_params):\n\u001b[0;32m    597\u001b[0m     \u001b[39m\"\"\"Run fit with all sets of parameters.\u001b[39;00m\n\u001b[0;32m    598\u001b[0m \n\u001b[0;32m    599\u001b[0m \u001b[39m    ``tune.run`` is used to perform the fit procedure.\u001b[39;00m\n\u001b[1;32m   (...)\u001b[0m\n\u001b[0;32m    619\u001b[0m \n\u001b[0;32m    620\u001b[0m \u001b[39m    \"\"\"\u001b[39;00m\n\u001b[1;32m--> 621\u001b[0m     \u001b[39mreturn\u001b[39;00m \u001b[39mself\u001b[39;49m\u001b[39m.\u001b[39;49m_fit(X, y, groups, tune_params, \u001b[39m*\u001b[39;49m\u001b[39m*\u001b[39;49mfit_params)\n",
      "File \u001b[1;32mc:\\ProgramData\\Anaconda3\\envs\\TuneSearch\\lib\\site-packages\\tune_sklearn\\tune_basesearch.py:532\u001b[0m, in \u001b[0;36mTuneBaseSearchCV._fit\u001b[1;34m(self, X, y, groups, tune_params, **fit_params)\u001b[0m\n\u001b[0;32m    529\u001b[0m config[\u001b[39m\"\u001b[39m\u001b[39mmetric_name\u001b[39m\u001b[39m\"\u001b[39m] \u001b[39m=\u001b[39m \u001b[39mself\u001b[39m\u001b[39m.\u001b[39m_metric_name\n\u001b[0;32m    531\u001b[0m \u001b[39mself\u001b[39m\u001b[39m.\u001b[39m_fill_config_hyperparam(config)\n\u001b[1;32m--> 532\u001b[0m \u001b[39mself\u001b[39m\u001b[39m.\u001b[39manalysis_ \u001b[39m=\u001b[39m \u001b[39mself\u001b[39;49m\u001b[39m.\u001b[39;49m_tune_run(X, y, config, resources_per_trial,\n\u001b[0;32m    533\u001b[0m                                 tune_params, fit_params)\n\u001b[0;32m    535\u001b[0m \u001b[39mself\u001b[39m\u001b[39m.\u001b[39mcv_results_ \u001b[39m=\u001b[39m \u001b[39mself\u001b[39m\u001b[39m.\u001b[39m_format_results(\u001b[39mself\u001b[39m\u001b[39m.\u001b[39mn_splits, \u001b[39mself\u001b[39m\u001b[39m.\u001b[39manalysis_)\n\u001b[0;32m    537\u001b[0m metric \u001b[39m=\u001b[39m \u001b[39mself\u001b[39m\u001b[39m.\u001b[39m_metric_name\n",
      "File \u001b[1;32mc:\\ProgramData\\Anaconda3\\envs\\TuneSearch\\lib\\site-packages\\tune_sklearn\\tune_search.py:822\u001b[0m, in \u001b[0;36mTuneSearchCV._tune_run\u001b[1;34m(self, X, y, config, resources_per_trial, tune_params, fit_params)\u001b[0m\n\u001b[0;32m    818\u001b[0m \u001b[39mwith\u001b[39;00m warnings\u001b[39m.\u001b[39mcatch_warnings():\n\u001b[0;32m    819\u001b[0m     warnings\u001b[39m.\u001b[39mfilterwarnings(\n\u001b[0;32m    820\u001b[0m         \u001b[39m\"\u001b[39m\u001b[39mignore\u001b[39m\u001b[39m\"\u001b[39m, message\u001b[39m=\u001b[39m\u001b[39m\"\u001b[39m\u001b[39mfail_fast=\u001b[39m\u001b[39m'\u001b[39m\u001b[39mraise\u001b[39m\u001b[39m'\u001b[39m\u001b[39m \u001b[39m\u001b[39m\"\u001b[39m\n\u001b[0;32m    821\u001b[0m         \u001b[39m\"\u001b[39m\u001b[39mdetected.\u001b[39m\u001b[39m\"\u001b[39m)\n\u001b[1;32m--> 822\u001b[0m     analysis \u001b[39m=\u001b[39m tune\u001b[39m.\u001b[39;49mrun(trainable, \u001b[39m*\u001b[39;49m\u001b[39m*\u001b[39;49mrun_args)\n\u001b[0;32m    823\u001b[0m \u001b[39mreturn\u001b[39;00m analysis\n",
      "File \u001b[1;32mc:\\ProgramData\\Anaconda3\\envs\\TuneSearch\\lib\\site-packages\\ray\\tune\\tune.py:388\u001b[0m, in \u001b[0;36mrun\u001b[1;34m(run_or_experiment, name, metric, mode, stop, time_budget_s, config, resources_per_trial, num_samples, local_dir, search_alg, scheduler, keep_checkpoints_num, checkpoint_score_attr, checkpoint_freq, checkpoint_at_end, verbose, progress_reporter, log_to_file, trial_name_creator, trial_dirname_creator, chdir_to_trial_dir, sync_config, export_formats, max_failures, fail_fast, restore, server_port, resume, reuse_actors, trial_executor, raise_on_failed_trial, callbacks, max_concurrent_trials, _experiment_checkpoint_dir, _remote, _remote_string_queue)\u001b[0m\n\u001b[0;32m    385\u001b[0m     \u001b[39mraise\u001b[39;00m \u001b[39mValueError\u001b[39;00m(\u001b[39m\"\u001b[39m\u001b[39mcannot use custom trial executor\u001b[39m\u001b[39m\"\u001b[39m)\n\u001b[0;32m    387\u001b[0m \u001b[39mif\u001b[39;00m \u001b[39mnot\u001b[39;00m trial_executor \u001b[39mor\u001b[39;00m \u001b[39misinstance\u001b[39m(trial_executor, RayTrialExecutor):\n\u001b[1;32m--> 388\u001b[0m     _ray_auto_init()\n\u001b[0;32m    390\u001b[0m \u001b[39mif\u001b[39;00m _remote:\n\u001b[0;32m    391\u001b[0m     remote_run \u001b[39m=\u001b[39m ray\u001b[39m.\u001b[39mremote(num_cpus\u001b[39m=\u001b[39m\u001b[39m0\u001b[39m)(run)\n",
      "File \u001b[1;32mc:\\ProgramData\\Anaconda3\\envs\\TuneSearch\\lib\\site-packages\\ray\\tune\\tune.py:892\u001b[0m, in \u001b[0;36m_ray_auto_init\u001b[1;34m()\u001b[0m\n\u001b[0;32m    886\u001b[0m \u001b[39melif\u001b[39;00m \u001b[39mnot\u001b[39;00m ray\u001b[39m.\u001b[39mis_initialized():\n\u001b[0;32m    887\u001b[0m     logger\u001b[39m.\u001b[39minfo(\n\u001b[0;32m    888\u001b[0m         \u001b[39m\"\u001b[39m\u001b[39mInitializing Ray automatically.\u001b[39m\u001b[39m\"\u001b[39m\n\u001b[0;32m    889\u001b[0m         \u001b[39m\"\u001b[39m\u001b[39mFor cluster usage or custom Ray initialization, \u001b[39m\u001b[39m\"\u001b[39m\n\u001b[0;32m    890\u001b[0m         \u001b[39m\"\u001b[39m\u001b[39mcall `ray.init(...)` before `tune.run`.\u001b[39m\u001b[39m\"\u001b[39m\n\u001b[0;32m    891\u001b[0m     )\n\u001b[1;32m--> 892\u001b[0m     ray\u001b[39m.\u001b[39;49minit()\n",
      "File \u001b[1;32mc:\\ProgramData\\Anaconda3\\envs\\TuneSearch\\lib\\site-packages\\ray\\_private\\client_mode_hook.py:105\u001b[0m, in \u001b[0;36mclient_mode_hook.<locals>.wrapper\u001b[1;34m(*args, **kwargs)\u001b[0m\n\u001b[0;32m    103\u001b[0m     \u001b[39mif\u001b[39;00m func\u001b[39m.\u001b[39m\u001b[39m__name__\u001b[39m \u001b[39m!=\u001b[39m \u001b[39m\"\u001b[39m\u001b[39minit\u001b[39m\u001b[39m\"\u001b[39m \u001b[39mor\u001b[39;00m is_client_mode_enabled_by_default:\n\u001b[0;32m    104\u001b[0m         \u001b[39mreturn\u001b[39;00m \u001b[39mgetattr\u001b[39m(ray, func\u001b[39m.\u001b[39m\u001b[39m__name__\u001b[39m)(\u001b[39m*\u001b[39margs, \u001b[39m*\u001b[39m\u001b[39m*\u001b[39mkwargs)\n\u001b[1;32m--> 105\u001b[0m \u001b[39mreturn\u001b[39;00m func(\u001b[39m*\u001b[39;49margs, \u001b[39m*\u001b[39;49m\u001b[39m*\u001b[39;49mkwargs)\n",
      "File \u001b[1;32mc:\\ProgramData\\Anaconda3\\envs\\TuneSearch\\lib\\site-packages\\ray\\_private\\worker.py:1540\u001b[0m, in \u001b[0;36minit\u001b[1;34m(address, num_cpus, num_gpus, resources, object_store_memory, local_mode, ignore_reinit_error, include_dashboard, dashboard_host, dashboard_port, job_config, configure_logging, logging_level, logging_format, log_to_driver, namespace, runtime_env, storage, **kwargs)\u001b[0m\n\u001b[0;32m   1537\u001b[0m \u001b[39melse\u001b[39;00m:\n\u001b[0;32m   1538\u001b[0m     logger\u001b[39m.\u001b[39minfo(info_str)\n\u001b[1;32m-> 1540\u001b[0m connect(\n\u001b[0;32m   1541\u001b[0m     _global_node,\n\u001b[0;32m   1542\u001b[0m     _global_node\u001b[39m.\u001b[39;49msession_name,\n\u001b[0;32m   1543\u001b[0m     mode\u001b[39m=\u001b[39;49mdriver_mode,\n\u001b[0;32m   1544\u001b[0m     log_to_driver\u001b[39m=\u001b[39;49mlog_to_driver,\n\u001b[0;32m   1545\u001b[0m     worker\u001b[39m=\u001b[39;49mglobal_worker,\n\u001b[0;32m   1546\u001b[0m     driver_object_store_memory\u001b[39m=\u001b[39;49m_driver_object_store_memory,\n\u001b[0;32m   1547\u001b[0m     job_id\u001b[39m=\u001b[39;49m\u001b[39mNone\u001b[39;49;00m,\n\u001b[0;32m   1548\u001b[0m     namespace\u001b[39m=\u001b[39;49mnamespace,\n\u001b[0;32m   1549\u001b[0m     job_config\u001b[39m=\u001b[39;49mjob_config,\n\u001b[0;32m   1550\u001b[0m     entrypoint\u001b[39m=\u001b[39;49mray\u001b[39m.\u001b[39;49m_private\u001b[39m.\u001b[39;49mutils\u001b[39m.\u001b[39;49mget_entrypoint_name(),\n\u001b[0;32m   1551\u001b[0m )\n\u001b[0;32m   1552\u001b[0m \u001b[39mif\u001b[39;00m job_config \u001b[39mand\u001b[39;00m job_config\u001b[39m.\u001b[39mcode_search_path:\n\u001b[0;32m   1553\u001b[0m     global_worker\u001b[39m.\u001b[39mset_load_code_from_local(\u001b[39mTrue\u001b[39;00m)\n",
      "File \u001b[1;32mc:\\ProgramData\\Anaconda3\\envs\\TuneSearch\\lib\\site-packages\\ray\\_private\\worker.py:2028\u001b[0m, in \u001b[0;36mconnect\u001b[1;34m(node, session_name, mode, log_to_driver, worker, driver_object_store_memory, job_id, namespace, job_config, runtime_env_hash, startup_token, ray_debugger_external, entrypoint)\u001b[0m\n\u001b[0;32m   2026\u001b[0m \u001b[39melse\u001b[39;00m:\n\u001b[0;32m   2027\u001b[0m     logs_dir \u001b[39m=\u001b[39m node\u001b[39m.\u001b[39mget_logs_dir_path()\n\u001b[1;32m-> 2028\u001b[0m worker\u001b[39m.\u001b[39mcore_worker \u001b[39m=\u001b[39m ray\u001b[39m.\u001b[39m_raylet\u001b[39m.\u001b[39mCoreWorker(\n\u001b[0;32m   2029\u001b[0m     mode,\n\u001b[0;32m   2030\u001b[0m     node\u001b[39m.\u001b[39mplasma_store_socket_name,\n\u001b[0;32m   2031\u001b[0m     node\u001b[39m.\u001b[39mraylet_socket_name,\n\u001b[0;32m   2032\u001b[0m     job_id,\n\u001b[0;32m   2033\u001b[0m     gcs_options,\n\u001b[0;32m   2034\u001b[0m     logs_dir,\n\u001b[0;32m   2035\u001b[0m     node\u001b[39m.\u001b[39mnode_ip_address,\n\u001b[0;32m   2036\u001b[0m     node\u001b[39m.\u001b[39mnode_manager_port,\n\u001b[0;32m   2037\u001b[0m     node\u001b[39m.\u001b[39mraylet_ip_address,\n\u001b[0;32m   2038\u001b[0m     (mode \u001b[39m==\u001b[39m LOCAL_MODE),\n\u001b[0;32m   2039\u001b[0m     driver_name,\n\u001b[0;32m   2040\u001b[0m     log_stdout_file_path,\n\u001b[0;32m   2041\u001b[0m     log_stderr_file_path,\n\u001b[0;32m   2042\u001b[0m     serialized_job_config,\n\u001b[0;32m   2043\u001b[0m     node\u001b[39m.\u001b[39mmetrics_agent_port,\n\u001b[0;32m   2044\u001b[0m     runtime_env_hash,\n\u001b[0;32m   2045\u001b[0m     startup_token,\n\u001b[0;32m   2046\u001b[0m     session_name,\n\u001b[0;32m   2047\u001b[0m     \u001b[39m\"\u001b[39m\u001b[39m\"\u001b[39m \u001b[39mif\u001b[39;00m mode \u001b[39m!=\u001b[39m SCRIPT_MODE \u001b[39melse\u001b[39;00m entrypoint,\n\u001b[0;32m   2048\u001b[0m )\n\u001b[0;32m   2050\u001b[0m \u001b[39m# Notify raylet that the core worker is ready.\u001b[39;00m\n\u001b[0;32m   2051\u001b[0m worker\u001b[39m.\u001b[39mcore_worker\u001b[39m.\u001b[39mnotify_raylet()\n",
      "\u001b[1;31mKeyboardInterrupt\u001b[0m: "
     ]
    }
   ],
   "source": [
    "grid_search.fit(X_train, y_train)"
   ]
  },
  {
   "cell_type": "code",
   "execution_count": null,
   "metadata": {},
   "outputs": [],
   "source": [
    "best = grid_search.best_estimator_"
   ]
  },
  {
   "cell_type": "code",
   "execution_count": null,
   "metadata": {},
   "outputs": [],
   "source": [
    "grid_search.best_params_"
   ]
  },
  {
   "cell_type": "code",
   "execution_count": null,
   "metadata": {},
   "outputs": [],
   "source": [
    "# # Метод двух моделей\n",
    "# #Default data\n",
    "# skf = KFold(n_splits=5)\n",
    "# skf.get_n_splits(X, y)\n",
    "# metrics = {'wau':[], 'uplift_k':[]}\n",
    "# i = 0\n",
    "\n",
    "# for train_index, test_index in skf.split(X, y):\n",
    "#       gc.collect()\n",
    "#       X_train_, X_test_ = X[train_index], X[test_index]\n",
    "#       y_train_, y_test_ = y[train_index], y[test_index]\n",
    "#       reg = CatBoostRegressor(verbose=0)\n",
    "#       reg.fit(X_train_, y_train_)\n",
    "#       y_pred = reg.predict(X_test_)\n",
    "#       del reg\n",
    "#       del X_train_\n",
    "#       del y_train_\n",
    "#       del X_test_\n",
    "#       gc.collect()\n",
    "#       wau = weighted_average_uplift(y_true=targ[test_index] , uplift=y_pred,\n",
    "#                               treatment=treat[test_index])\n",
    "#       uplift_overall = uplift_at_k(y_true=targ[test_index] , uplift=y_pred,\n",
    "#                               treatment=treat[test_index], strategy='by_group', k=0.3)\n",
    "#       metrics['wau'].append(wau)\n",
    "#       metrics['uplift_k'].append(uplift_overall)\n",
    "#       i += 1\n",
    "#       print(f'Split {i}; WAU = {wau}; UpLift 30% = {uplift_overall}')\n",
    "#       fig, ax = plt.subplots(1, 2, figsize = (30, 10))\n",
    "#       ax[0].set_title('Qini Curve')\n",
    "#       ax[1].set_title('UpLift Curve')\n",
    "#       plot_qini_curve(y_true=targ[test_index] , uplift=y_pred,\n",
    "#                               treatment=treat[test_index], ax = ax[0], perfect=False)\n",
    "#       gc.collect()\n",
    "#       plot_uplift_curve(y_true=targ[test_index] , uplift=y_pred,\n",
    "#                               treatment=treat[test_index], ax = ax[1], perfect=False)\n",
    "#       gc.collect()\n",
    "#       gc.collect()\n",
    "#       gc.collect()\n",
    "#       plt.savefig(f\"Plots/Regression model Split {i}.png\")\n",
    "\n",
    "#       plot_uplift_by_percentile(y_true=targ[test_index], uplift=y_pred,\n",
    "#                               treatment=treat[test_index], kind='bar')\n",
    "#       plt.savefig(f\"Plots/Regression model Procentile Split {i}.png\")\n",
    "\n",
    "\n",
    "# wau = np.round(np.mean(metrics['wau']), 4)\n",
    "# uplift_overall = np.round(np.mean(metrics['uplift_k']), 4)\n",
    "# print(f'Mean WAU = {wau}; Mean UpLift 30% = {uplift_overall}')\n"
   ]
  },
  {
   "cell_type": "code",
   "execution_count": null,
   "metadata": {},
   "outputs": [
    {
     "data": {
      "text/plain": [
       "71372"
      ]
     },
     "metadata": {},
     "output_type": "display_data"
    }
   ],
   "source": [
    "gc.collect()"
   ]
  },
  {
   "cell_type": "code",
   "execution_count": null,
   "metadata": {},
   "outputs": [],
   "source": []
  }
 ],
 "metadata": {
  "kernelspec": {
   "display_name": "TuneSearch",
   "language": "python",
   "name": "python3"
  },
  "language_info": {
   "codemirror_mode": {
    "name": "ipython",
    "version": 3
   },
   "file_extension": ".py",
   "mimetype": "text/x-python",
   "name": "python",
   "nbconvert_exporter": "python",
   "pygments_lexer": "ipython3",
   "version": "3.8.15"
  },
  "orig_nbformat": 4,
  "vscode": {
   "interpreter": {
    "hash": "09bf02079e7782ae775896914cd423c897d66ff08a4e6815ea333f1a031f9a7e"
   }
  }
 },
 "nbformat": 4,
 "nbformat_minor": 2
}
