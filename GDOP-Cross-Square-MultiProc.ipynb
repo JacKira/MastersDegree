{
 "cells": [
  {
   "cell_type": "markdown",
   "metadata": {},
   "source": [
    "# Integrate multoprocessing"
   ]
  },
  {
   "cell_type": "code",
   "execution_count": 1,
   "metadata": {},
   "outputs": [],
   "source": [
    "import numpy as np\n",
    "import matplotlib.pyplot as plt\n",
    "from matplotlib import cm\n",
    "from numpy import sin, cos, pi, exp, sqrt\n",
    "import os\n",
    "import ipyparallel as ipp\n",
    "from matplotlib.ticker import (MultipleLocator, AutoMinorLocator)\n",
    "\n"
   ]
  },
  {
   "cell_type": "markdown",
   "metadata": {},
   "source": [
    "### Start client"
   ]
  },
  {
   "cell_type": "code",
   "execution_count": 2,
   "metadata": {},
   "outputs": [
    {
     "name": "stdout",
     "output_type": "stream",
     "text": [
      "8 cores\n"
     ]
    }
   ],
   "source": [
    "## connect to ipcluster using default arguments\n",
    "ipyclient = ipp.Client()\n",
    "\n",
    "## count how many engines are connected\n",
    "print(len(ipyclient), 'cores')\n",
    "lbview = ipyclient.load_balanced_view()"
   ]
  },
  {
   "cell_type": "markdown",
   "metadata": {},
   "source": [
    "# Routines"
   ]
  },
  {
   "cell_type": "code",
   "execution_count": 3,
   "metadata": {},
   "outputs": [],
   "source": [
    "def ServiceZone(Lat, Lon, GS_X, GS_Y, h):\n",
    "    k = len(Lat)\n",
    "    l = len(Lat[0])\n",
    "    E = np.array([[1] * k] * l)\n",
    "    for i in range(len(GS_X)):\n",
    "        filt_GS_X = GetClearList(GS_X, [i])\n",
    "        filt_GS_Y = GetClearList(GS_Y, [i])\n",
    "        HDOP, VDOP =  GetHVDOP(Lat, Lon, filt_GS_X, filt_GS_Y)\n",
    "        class_HDOP = BinByDOP(HDOP)\n",
    "        E = E * class_HDOP\n",
    "    return E"
   ]
  },
  {
   "cell_type": "code",
   "execution_count": 4,
   "metadata": {},
   "outputs": [],
   "source": [
    "def ServiceZonePlot(Lat, Lon, GS_X, GS_Y, h):\n",
    "    k = len(Lat)\n",
    "    l = len(Lat[0])\n",
    "    E = np.array([[1] * k] * l)\n",
    "    for i in range(len(GS_X)):\n",
    "        filt_GS_X = GetClearList(GS_X, [i])\n",
    "        filt_GS_Y = GetClearList(GS_Y, [i])\n",
    "        HDOP, VDOP =  GetHVDOP(Lat, Lon, filt_GS_X, filt_GS_Y)\n",
    "        class_HDOP = BinByDOP(HDOP)\n",
    "        E = E * class_HDOP\n",
    "        \n",
    "        %matplotlib inline\n",
    "        fig = plt.figure(figsize=(15, 10))\n",
    "        ax = fig.add_subplot()\n",
    "        pt = ax.contourf(Lon, Lat, class_HDOP, zdir='z', offset= -10)\n",
    "        ax.scatter(filt_GS_Y, filt_GS_X,  linewidths = 10, color = 'black', marker = '^')\n",
    "        fig.colorbar(pt)\n",
    "        ax.set_title('GPS HDOP sigma = 12'  + '; Cells = ' + str(CalcSquare(HDOP)) + '; Square = ' +  str(round(CalcRealSquare(Lat, Lon, HDOP, h),2)) + ' km^2')\n",
    "        ax.xaxis.set_minor_locator(MultipleLocator(0.5))\n",
    "        ax.yaxis.set_minor_locator(MultipleLocator(0.5))\n",
    "        ax.grid('minor')\n",
    "        plt.show()\n",
    "        \n",
    "    return E"
   ]
  },
  {
   "cell_type": "code",
   "execution_count": 5,
   "metadata": {},
   "outputs": [],
   "source": [
    "def GetClearList(l, s):\n",
    "    new_ = l.copy()\n",
    "    if(len(s) > 0):\n",
    "        new_ = np.delete(new_, s)\n",
    "    return new_.tolist()"
   ]
  },
  {
   "cell_type": "code",
   "execution_count": 6,
   "metadata": {},
   "outputs": [],
   "source": [
    "def GetGSList(l, s):\n",
    "    new = []\n",
    "    for i in s:\n",
    "        new.append(l[i])\n",
    "    return new"
   ]
  },
  {
   "cell_type": "code",
   "execution_count": 7,
   "metadata": {},
   "outputs": [],
   "source": [
    "def geodetic2ecef(lat, lon, alt):\n",
    "    lat = lat * pi / 180\n",
    "    lon = lon * pi / 180\n",
    "    a  = 6378137.0\n",
    "    b = 6356752.314\n",
    "   # radius of curvature of the prime vertical section\n",
    "    N = a ** 2 / sqrt(\n",
    "        a ** 2 * cos(lat) ** 2 + b ** 2 * sin(lat) ** 2\n",
    "    )\n",
    "    # Compute cartesian (geocentric) coordinates given  (curvilinear) geodetic\n",
    "    # coordinates.\n",
    "    x = (N + alt) * cos(lat) * cos(lon)\n",
    "    y = (N + alt) * cos(lat) * sin(lon)\n",
    "    z = (N * (b / a) ** 2 + alt) * sin(lat)\n",
    "    return x, y ,z"
   ]
  },
  {
   "cell_type": "code",
   "execution_count": 8,
   "metadata": {},
   "outputs": [],
   "source": [
    "def OneLonToKm(lat):\n",
    "    return 111.3 * cos(lat * pi / 180)\n",
    "\n",
    "def OneLatToKm():\n",
    "    return 111.3 "
   ]
  },
  {
   "cell_type": "code",
   "execution_count": 9,
   "metadata": {},
   "outputs": [],
   "source": [
    "def FromGeoToTOP(lat, lon):\n",
    "    N = np.array([[0.] * 3] * 3)\n",
    "    sin_lat = sin(lat)\n",
    "    cos_lat = cos(lat)\n",
    "    sin_lon = sin(lon)\n",
    "    cos_lon = cos(lon)\n",
    "    N[0][0] = -sin_lon\n",
    "    N[0][1] = cos_lon\n",
    "    N[0][2] = 0.0\n",
    "    N[1][0] = (-sin_lat) * cos_lon\n",
    "    N[1][1] = (-sin_lat) * sin_lon\n",
    "    N[1][2] = cos_lat\n",
    "    N[2][0] = cos_lat * cos_lon\n",
    "    N[2][1] = cos_lat * sin_lon\n",
    "    N[2][2] = sin_lat\n",
    "    return N"
   ]
  },
  {
   "cell_type": "code",
   "execution_count": 10,
   "metadata": {},
   "outputs": [],
   "source": [
    "def ClassificationRow(a):\n",
    "    if(a > 50):\n",
    "        return 0\n",
    "    else:\n",
    "        return 1\n",
    "\n",
    "\n",
    "def Classification(a):\n",
    "    return list(map(ClassificationRow, a))\n",
    "\n",
    "def CalcSquare(DOP):\n",
    "    return np.array(list(map(Classification, DOP))).sum()\n",
    "\n",
    "def BinByDOP(DOP):\n",
    "    return np.array(list(map(Classification, DOP)))\n",
    "\n",
    "def CalcRealSquareByBinMat(Lat, Lon, DOP, h = 0.1):\n",
    "    k = len(Lat[0])\n",
    "    l = len(Lon)\n",
    "    sum_sqr = 0\n",
    "    for i in range(0, k):\n",
    "        for j in range(0, l): \n",
    "            if(DOP[i][j] > 0):\n",
    "                if((i + 1) != k):\n",
    "                    Lat_mean = ((Lat[i + 1][j] + Lat[i][j]) / 2)\n",
    "                else:\n",
    "                    Lat_mean = Lat[i][j]\n",
    "                sum_sqr += (h * h * OneLatToKm() * OneLonToKm(Lat_mean))\n",
    "    return sum_sqr\n",
    "\n",
    "\n",
    "def CalcRealSquare(Lat, Lon, DOP, h = 0.1):\n",
    "    k = len(Lat[0])\n",
    "    l = len(Lon)\n",
    "    sum_sqr = 0\n",
    "    for i in range(0, k):\n",
    "        for j in range(0, l): \n",
    "            if(DOP[i][j] <= 50):\n",
    "                if((i + 1) != k):\n",
    "                    Lat_mean = ((Lat[i + 1][j] + Lat[i][j]) / 2)\n",
    "                else:\n",
    "                    Lat_mean = Lat[i][j]\n",
    "                sum_sqr += (h * h * OneLatToKm() * OneLonToKm(Lat_mean))\n",
    "    return sum_sqr\n",
    "\n",
    "def CalcRealSquareHV(Lat, Lon, HDOP, VDOP, h = 0.1):\n",
    "    k = len(Lat[0])\n",
    "    l = len(Lon)\n",
    "    vsum_sqr = 0\n",
    "    hsum_sqr = 0\n",
    "    for i in range(0, k):\n",
    "        for j in range(0, l): \n",
    "            if(HDOP[i][j] <= 50):\n",
    "                if((i + 1) != k):\n",
    "                    Lat_mean = ((Lat[i + 1][j] + Lat[i][j]) / 2)\n",
    "                else:\n",
    "                    Lat_mean = Lat[i]\n",
    "                hsum_sqr += (h * h * OneLatToKm() * OneLonToKm(Lat_mean))\n",
    "            if(VDOP[i][j] <= 50):\n",
    "                if((i + 1) != k):\n",
    "                    Lat_mean = ((Lat[i + 1][j] + Lat[i][j]) / 2)\n",
    "                else:\n",
    "                    Lat_mean = Lat[i]\n",
    "                vsum_sqr += (h * h * OneLatToKm() * OneLonToKm(Lat_mean))\n",
    "    return hsum_sqr, vsum_sqr\n",
    "\n",
    "def GetDiffBetweenGS(GS_Lats):\n",
    "    return abs(GS_Lats[0] - GS_Lats[1]) * OneLatToKm()\n",
    "\n",
    "def PlotVDOP(i):\n",
    "    fig = plt.figure(figsize=(15, 10))\n",
    "    ax = fig.add_subplot()\n",
    "    pt = ax.contour(Lat, Lon, VDOP, zdir='z', offset= -10, cmap=cm.jet, levels = 12)\n",
    "    ax.clabel(pt, pt.levels, inline=True, fontsize=10)\n",
    "    ax.scatter(GS_X, GS_Y, linewidths = 10,  color = 'black', marker = '^')\n",
    "    fig.colorbar(pt)\n",
    "    ax.set_title('GPS VDOP sigma = 12')\n",
    "    ax.xaxis.set_minor_locator(MultipleLocator(0.5))\n",
    "    ax.yaxis.set_minor_locator(MultipleLocator(0.5))\n",
    "    ax.grid('minor')\n",
    "    plt.savefig('VDOP{0}.png'.format(i))\n",
    "    plt.show()"
   ]
  },
  {
   "cell_type": "code",
   "execution_count": 11,
   "metadata": {},
   "outputs": [],
   "source": [
    "def IsDetectMod(ro, h, k = 4/3):\n",
    "    if(h >= (0.0785 * ro / k)):\n",
    "        return True\n",
    "    else:\n",
    "        return False"
   ]
  },
  {
   "cell_type": "code",
   "execution_count": 12,
   "metadata": {},
   "outputs": [],
   "source": [
    "def IsDetect(d, h1, h2, k = 3.57):\n",
    "    if(d <= (k * (h1**(1/2) + h2**(1/2)))):\n",
    "        return True\n",
    "    else:\n",
    "        return False"
   ]
  },
  {
   "cell_type": "code",
   "execution_count": 13,
   "metadata": {},
   "outputs": [],
   "source": [
    "def GetHVDOP(Lat, Lon, GS_X, GS_Y, h = 6000, sigma = 12):\n",
    "    n_GS = len(GS_X)\n",
    "    k = len(Lat[0])\n",
    "    l = len(Lat)\n",
    "   \n",
    "    HDOP = np.array([[0] * k] * l)\n",
    "    VDOP = np.array([[0] * k] * l)\n",
    "    for i in range(0, k):\n",
    "        for j in range(0, l):  \n",
    "            x_, y_, z_ =  geodetic2ecef(Lat[i][j], Lon[i][j], h )\n",
    "            AC = np.array([x_, y_, z_])\n",
    "            A = []\n",
    "            for r in range(0, n_GS):\n",
    "                x_, y_, z_ = geodetic2ecef(GS_X[r], GS_Y[r], 20)\n",
    "                GS = np.array([x_, y_, z_])\n",
    "                nrm = np.linalg.norm(GS - AC)\n",
    "                if(IsDetect(nrm / 1000, 20, h)):\n",
    "                    AC_GS = FromGeoToTOP(Lat[i][j] * pi / 180, Lon[i][j] * pi / 180) @ (GS - AC).T / nrm\n",
    "                    A.append([AC_GS[0], AC_GS[1], AC_GS[2]  , 1])\n",
    "                \n",
    "            if(len(A) >= 4):\n",
    "                A = np.array(A)\n",
    "                Q = sigma**2 * np.linalg.pinv(np.dot(A.T, A))\n",
    "                HDOP[i][j] = np.sqrt(Q[0, 0] + Q[1, 1])\n",
    "                VDOP[i][j] = np.sqrt(Q[2, 2])\n",
    "                if(HDOP[i][j] > 500):\n",
    "                    HDOP[i][j] = 500\n",
    "                if(VDOP[i][j] > 500):\n",
    "                    VDOP[i][j] = 500\n",
    "            else:\n",
    "                HDOP[i][j] = 500\n",
    "                VDOP[i][j] = 500\n",
    "    return HDOP, VDOP"
   ]
  },
  {
   "cell_type": "code",
   "execution_count": 14,
   "metadata": {},
   "outputs": [],
   "source": [
    "def GetHVGDOP(Lat, Lon, GS_X, GS_Y, h = 6000, sigma = 12):\n",
    "    n_GS = len(GS_X)\n",
    "    k = len(Lat[0])\n",
    "    l = len(Lat)\n",
    "    HDOP = np.array([[0] * k] * l)\n",
    "    VDOP = np.array([[0] * k] * l)\n",
    "    GDOP = np.array([[0] * k] * l)\n",
    "    H = [200, 250, 270, 260, 225]\n",
    "    for i in range(0, k):\n",
    "        for j in range(0, l):  \n",
    "            x_, y_, z_ =  geodetic2ecef(Lat[i][j], Lon[i][j], h )\n",
    "            AC = np.array([x_, y_, z_])\n",
    "            A = []\n",
    "            for r in range(0, n_GS):\n",
    "                x_, y_, z_ = geodetic2ecef(GS_X[r], GS_Y[r], H[r])\n",
    "                GS = np.array([x_, y_, z_])\n",
    "                nrm = np.linalg.norm(GS - AC)\n",
    "                if(IsDetect(nrm / 1000, H[r], h) or True):\n",
    "                    AC_GS = FromGeoToTOP(Lat[i][j] * pi / 180, Lon[i][j] * pi / 180) @ (GS - AC).T / nrm\n",
    "                    A.append([AC_GS[0], AC_GS[1], AC_GS[2]  , 1])\n",
    "                \n",
    "            if(len(A) >= 4):\n",
    "                A = np.array(A)\n",
    "                Q = sigma**2 * np.linalg.pinv(np.dot(A.T, A))\n",
    "                HDOP[i][j] = np.sqrt(Q[0, 0] + Q[1, 1])\n",
    "                VDOP[i][j] = np.sqrt(Q[2, 2])\n",
    "                GDOP[i][j] = np.sqrt(Q[0, 0] + Q[1, 1] + Q[2, 2] + Q[3,3])\n",
    "                if(HDOP[i][j] > 500):\n",
    "                    HDOP[i][j] = 500\n",
    "                if(VDOP[i][j] > 500):\n",
    "                    VDOP[i][j] = 500\n",
    "                if(GDOP[i][j] > 500):\n",
    "                    GDOP[i][j] = 500\n",
    "            else:\n",
    "                HDOP[i][j] = 500\n",
    "                VDOP[i][j] = 500\n",
    "                GDOP[i][j] = 500\n",
    "    return HDOP, VDOP, GDOP"
   ]
  },
  {
   "cell_type": "code",
   "execution_count": 15,
   "metadata": {},
   "outputs": [],
   "source": [
    "def GetDOP(Lat, Lon, GS_X, GS_Y, h):\n",
    "    import numpy as np\n",
    "    from numpy import cos, sin, pi, sqrt\n",
    "        \n",
    "    def CalcRealSquareHV(Lat, Lon, HDOP, VDOP, h = 0.1):\n",
    "        def OneLonToKm(lat):\n",
    "            return 111.3 * cos(lat * pi / 180)\n",
    "\n",
    "        def OneLatToKm():\n",
    "            return 111.3 \n",
    "        k = len(Lat[0])\n",
    "        l = len(Lon)\n",
    "        vsum_sqr = 0\n",
    "        hsum_sqr = 0\n",
    "        for i in range(0, k):\n",
    "            for j in range(0, l): \n",
    "                if(HDOP[i][j] <= 50):\n",
    "                    if((i + 1) != k):\n",
    "                        Lat_mean = ((Lat[i + 1][j] + Lat[i][j]) / 2)\n",
    "                    else:\n",
    "                        Lat_mean = Lat[i]\n",
    "                    hsum_sqr += (h * h * OneLatToKm() * OneLonToKm(Lat_mean))\n",
    "                if(VDOP[i][j] <= 50):\n",
    "                    if((i + 1) != k):\n",
    "                        Lat_mean = ((Lat[i + 1][j] + Lat[i][j]) / 2)\n",
    "                    else:\n",
    "                        Lat_mean = Lat[i]\n",
    "                    vsum_sqr += (h * h * OneLatToKm() * OneLonToKm(Lat_mean))\n",
    "        return hsum_sqr, vsum_sqr\n",
    "    \n",
    "    def FromGeoToTOP(lat, lon):\n",
    "        N = np.array([[0.] * 3] * 3)\n",
    "        sin_lat = sin(lat)\n",
    "        cos_lat = cos(lat)\n",
    "        sin_lon = sin(lon)\n",
    "        cos_lon = cos(lon)\n",
    "        N[0][0] = -sin_lon\n",
    "        N[0][1] = cos_lon\n",
    "        N[0][2] = 0.0\n",
    "        N[1][0] = (-sin_lat) * cos_lon\n",
    "        N[1][1] = (-sin_lat) * sin_lon\n",
    "        N[1][2] = cos_lat\n",
    "        N[2][0] = cos_lat * cos_lon\n",
    "        N[2][1] = cos_lat * sin_lon\n",
    "        N[2][2] = sin_lat\n",
    "        return N\n",
    "    \n",
    "    def IsDetect(d, h1, h2, k = 3.57):\n",
    "        if(d <= (k * (h1**(1/2) + h2**(1/2)))):\n",
    "            return True\n",
    "        else:\n",
    "            return False\n",
    "        \n",
    "    def geodetic2ecef(lat, lon, alt):\n",
    "        lat = lat * pi / 180\n",
    "        lon = lon * pi / 180\n",
    "        a  = 6378137.0\n",
    "        b = 6356752.314\n",
    "       # radius of curvature of the prime vertical section\n",
    "        N = a ** 2 / sqrt(\n",
    "            a ** 2 * cos(lat) ** 2 + b ** 2 * sin(lat) ** 2\n",
    "        )\n",
    "        # Compute cartesian (geocentric) coordinates given  (curvilinear) geodetic\n",
    "        # coordinates.\n",
    "        x = (N + alt) * cos(lat) * cos(lon)\n",
    "        y = (N + alt) * cos(lat) * sin(lon)\n",
    "        z = (N * (b / a) ** 2 + alt) * sin(lat)\n",
    "        return x, y ,z\n",
    "    \n",
    "    def GetHVDOP(Lat, Lon, GS_X, GS_Y, h = 6000, sigma = 12):\n",
    "        n_GS = len(GS_X)\n",
    "        k = len(Lat[0])\n",
    "        l = len(Lat)\n",
    "\n",
    "        HDOP = np.array([[0] * k] * l)\n",
    "        VDOP = np.array([[0] * k] * l)\n",
    "        for i in range(0, k):\n",
    "            for j in range(0, l):  \n",
    "                x_, y_, z_ =  geodetic2ecef(Lat[i][j], Lon[i][j], h )\n",
    "                AC = np.array([x_, y_, z_])\n",
    "                A = []\n",
    "                for r in range(0, n_GS):\n",
    "                    x_, y_, z_ = geodetic2ecef(GS_X[r], GS_Y[r], 20)\n",
    "                    GS = np.array([x_, y_, z_])\n",
    "                    nrm = np.linalg.norm(GS - AC)\n",
    "                    if(IsDetect(nrm / 1000, 20, h)):\n",
    "                        AC_GS = FromGeoToTOP(Lat[i][j] * pi / 180, Lon[i][j] * pi / 180) @ (GS - AC).T / nrm\n",
    "                        A.append([AC_GS[0], AC_GS[1], AC_GS[2]  , 1])\n",
    "\n",
    "                if(len(A) >= 4):\n",
    "                    A = np.array(A)\n",
    "                    Q = sigma**2 * np.linalg.pinv(np.dot(A.T, A))\n",
    "                    HDOP[i][j] = np.sqrt(Q[0, 0] + Q[1, 1])\n",
    "                    VDOP[i][j] = np.sqrt(Q[2, 2])\n",
    "                    if(HDOP[i][j] > 500):\n",
    "                        HDOP[i][j] = 500\n",
    "                    if(VDOP[i][j] > 500):\n",
    "                        VDOP[i][j] = 500\n",
    "                else:\n",
    "                    HDOP[i][j] = 500\n",
    "                    VDOP[i][j] = 500\n",
    "        return HDOP, VDOP\n",
    "\n",
    "    HDOP, VDOP = GetHVDOP(Lat, Lon, GS_X, GS_Y)\n",
    "    hs, vs = CalcRealSquareHV(Lat, Lon, HDOP, VDOP, h)\n",
    "    return hs, vs\n",
    "   "
   ]
  },
  {
   "cell_type": "markdown",
   "metadata": {},
   "source": [
    "# Program"
   ]
  },
  {
   "cell_type": "code",
   "execution_count": null,
   "metadata": {},
   "outputs": [],
   "source": [
    "%matplotlib inline\n",
    "X_c = 0\n",
    "Y_c = 39\n",
    "offset_C = 0\n",
    "n = 20\n",
    "step_ = 0.1\n",
    "h = 0.005\n",
    "Lat = np.arange(X_c - 2, X_c + 2, h)\n",
    "Lon = np.arange(Y_c - 2, Y_c + 2, h) \n",
    "Lat, Lon = np.meshgrid(Lat, Lon)\n",
    "max_VDOP = [0] * 2 # value - offset\n",
    "max_HDOP = [0] * 2 # value - offset\n",
    "delta = []\n",
    "Hcells = []\n",
    "Vcells = []\n",
    "Hsquare = []\n",
    "Vsquare = []\n",
    "Zone = []\n",
    "res = {}\n",
    "for i in range(n):\n",
    "    offset_C += step_\n",
    "    #Прямая геодезическая задача\n",
    "    GS_X = np.array([X_c + offset_C * cos(315 * pi / 180), X_c + offset_C * cos(225 * pi / 180), X_c, X_c + offset_C * cos(135 * pi / 180), X_c + offset_C * cos(45 * pi / 180)]) \n",
    "    GS_Y = np.array([Y_c + offset_C * sin(315 * pi / 180), Y_c + offset_C * sin(225 * pi / 180), Y_c, Y_c + offset_C * sin(135 * pi / 180), Y_c + offset_C * sin(45 * pi / 180)] ) \n",
    "    async_ = lbview.apply(GetDOP, Lat, Lon, GS_X, GS_Y, h)      \n",
    "    res[i] = async_    \n",
    "ipyclient.wait()\n",
    "    "
   ]
  },
  {
   "cell_type": "code",
   "execution_count": null,
   "metadata": {},
   "outputs": [],
   "source": [
    "res"
   ]
  },
  {
   "cell_type": "code",
   "execution_count": null,
   "metadata": {},
   "outputs": [],
   "source": [
    "Hsqueare = []\n",
    "Vsqueare = []\n",
    "for ridx in range(n):\n",
    "    print( \"job: {}, result: {}\".format(ridx, res[ridx].get()))\n",
    "    Hsqueare.append(res[ridx].get()[0])\n",
    "    Vsqueare.append(res[ridx].get()[1])\n",
    "Hsqueare = np.array(Hsqueare)\n",
    "Vsqueare = np.array(Vsqueare)"
   ]
  },
  {
   "cell_type": "code",
   "execution_count": null,
   "metadata": {},
   "outputs": [],
   "source": [
    "max_H = np.argmax(Hsqueare)\n",
    "max_V = np.argmax(Vsqueare)\n",
    "\n",
    "max_VDOP = [Hsqueare[max_V], step_ * (max_V + 1)] \n",
    "max_HDOP = [Hsqueare[max_H], step_ * (max_H + 1)]"
   ]
  },
  {
   "cell_type": "markdown",
   "metadata": {},
   "source": [
    "## Оптимум HDOP"
   ]
  },
  {
   "cell_type": "code",
   "execution_count": null,
   "metadata": {},
   "outputs": [],
   "source": [
    "#Optimum HDOP\n",
    "offset_C = max_HDOP[1]\n",
    "GS_X = np.array([X_c + offset_C * cos(315 * pi / 180), X_c + offset_C * cos(225 * pi / 180), X_c, X_c + offset_C * cos(135 * pi / 180), X_c + offset_C * cos(45 * pi / 180)]) \n",
    "GS_Y = np.array([Y_c + offset_C * sin(315 * pi / 180), Y_c + offset_C * sin(225 * pi / 180), Y_c, Y_c + offset_C * sin(135 * pi / 180), Y_c + offset_C * sin(45 * pi / 180)] ) \n",
    "HDOP, VDOP =  GetHVDOP(Lat, Lon, GS_X, GS_Y)"
   ]
  },
  {
   "cell_type": "code",
   "execution_count": null,
   "metadata": {
    "colab": {
     "base_uri": "https://localhost:8080/",
     "height": 283
    },
    "id": "YjbSzKIhSRxu",
    "outputId": "344638b5-3de2-4ace-d967-392780a9ac93"
   },
   "outputs": [],
   "source": [
    "%matplotlib inline\n",
    "plt.scatter(GS_X, GS_Y)\n",
    "plt.title('HDOP offset = ' + str(offset_C) + '; Max offset = ' + str(n * step_))"
   ]
  },
  {
   "cell_type": "code",
   "execution_count": null,
   "metadata": {},
   "outputs": [],
   "source": [
    "%matplotlib inline\n",
    "fig = plt.figure(figsize=(15, 10))\n",
    "ax = fig.add_subplot()\n",
    "pt = ax.contour(Lon, Lat, VDOP, zdir='z', offset= -10, cmap=cm.jet, levels = 12)\n",
    "ax.clabel(pt, pt.levels, inline=True, fontsize=10)\n",
    "ax.scatter(GS_Y, GS_X, linewidths = 10,  color = 'black', marker = '^')\n",
    "fig.colorbar(pt)\n",
    "ax.set_title('GPS VDOP sigma = 12')\n",
    "ax.xaxis.set_minor_locator(MultipleLocator(0.5))\n",
    "ax.yaxis.set_minor_locator(MultipleLocator(0.5))\n",
    "ax.grid('minor')\n",
    "plt.savefig('Plots/optHDOP_VDOP.png')\n",
    "plt.show()"
   ]
  },
  {
   "cell_type": "code",
   "execution_count": null,
   "metadata": {
    "scrolled": false
   },
   "outputs": [],
   "source": [
    "%matplotlib inline\n",
    "fig = plt.figure(figsize=(15, 10))\n",
    "ax = fig.add_subplot()\n",
    "pt = ax.contour(Lon, Lat, HDOP, zdir='z', offset= -10, cmap=cm.jet, levels = 20, vmax = 350)\n",
    "ax.clabel(pt, pt.levels, inline=True, fontsize=10)\n",
    "ax.scatter(GS_Y, GS_X,  linewidths = 10, color = 'black', marker = '^')\n",
    "fig.colorbar(pt)\n",
    "ax.set_title('GPS HDOP sigma = 12')\n",
    "ax.xaxis.set_minor_locator(MultipleLocator(0.5))\n",
    "ax.yaxis.set_minor_locator(MultipleLocator(0.5))\n",
    "ax.grid('minor')\n",
    "plt.savefig('Plots/optHDOP_HDOP.png')\n",
    "plt.show()"
   ]
  },
  {
   "cell_type": "markdown",
   "metadata": {},
   "source": [
    "### Зона видимости оптимального HDOP"
   ]
  },
  {
   "cell_type": "code",
   "execution_count": null,
   "metadata": {},
   "outputs": [],
   "source": [
    "class_HDOP = BinByDOP(HDOP)\n"
   ]
  },
  {
   "cell_type": "code",
   "execution_count": null,
   "metadata": {},
   "outputs": [],
   "source": [
    "%matplotlib inline\n",
    "fig = plt.figure(figsize=(15, 10))\n",
    "ax = fig.add_subplot()\n",
    "pt = ax.contourf(Lon, Lat, class_HDOP, zdir='z', offset= -10)\n",
    "ax.scatter(GS_Y, GS_X,  linewidths = 10, color = 'black', marker = '^')\n",
    "fig.colorbar(pt)\n",
    "ax.set_title('GPS HDOP sigma = 12' + '; Cells = ' + str(CalcSquare(HDOP)) + '; Square = ' + str(round(CalcRealSquare(Lat, Lon, HDOP, h),2)) + ' km^2')\n",
    "ax.xaxis.set_minor_locator(MultipleLocator(0.5))\n",
    "ax.yaxis.set_minor_locator(MultipleLocator(0.5))\n",
    "ax.grid('minor')\n",
    "plt.savefig('Plots/optHDOP_HDOP_filter.png')\n",
    "plt.show()"
   ]
  },
  {
   "cell_type": "code",
   "execution_count": null,
   "metadata": {},
   "outputs": [],
   "source": [
    "class_VDOP = BinByDOP(VDOP)"
   ]
  },
  {
   "cell_type": "code",
   "execution_count": null,
   "metadata": {
    "scrolled": false
   },
   "outputs": [],
   "source": [
    "%matplotlib inline\n",
    "fig = plt.figure(figsize=(15, 10))\n",
    "ax = fig.add_subplot()\n",
    "pt = ax.contourf(Lon, Lat, class_VDOP, zdir='z', offset= -10)\n",
    "ax.scatter(GS_Y, GS_X,  linewidths = 10, color = 'black', marker = '^')\n",
    "fig.colorbar(pt)\n",
    "ax.set_title('GPS VDOP sigma = 12'  + '; Cells = ' + str(CalcSquare(VDOP)) + '; Square = ' +  str(round(CalcRealSquare(Lat, Lon, VDOP, h),2)) + ' km^2')\n",
    "ax.xaxis.set_minor_locator(MultipleLocator(0.5))\n",
    "ax.yaxis.set_minor_locator(MultipleLocator(0.5))\n",
    "ax.grid('minor')\n",
    "plt.savefig('Plots/optHDOP_VDOP_filter.png')\n",
    "plt.show()"
   ]
  },
  {
   "cell_type": "markdown",
   "metadata": {},
   "source": [
    "## Оптимум для VDOP"
   ]
  },
  {
   "cell_type": "code",
   "execution_count": null,
   "metadata": {},
   "outputs": [],
   "source": [
    "#Optimum VDOP\n",
    "offset_C = max_VDOP[1]\n",
    "GS_X = np.array([X_c + offset_C * cos(315 * pi / 180), X_c + offset_C * cos(225 * pi / 180), X_c, X_c + offset_C * cos(135 * pi / 180), X_c + offset_C * cos(45 * pi / 180)]) \n",
    "GS_Y = np.array([Y_c + offset_C * sin(315 * pi / 180), Y_c + offset_C * sin(225 * pi / 180), Y_c, Y_c + offset_C * sin(135 * pi / 180), Y_c + offset_C * sin(45 * pi / 180)] ) \n",
    "HDOP, VDOP = GetHVDOP(Lat, Lon, GS_X, GS_Y)"
   ]
  },
  {
   "cell_type": "code",
   "execution_count": null,
   "metadata": {
    "colab": {
     "base_uri": "https://localhost:8080/",
     "height": 283
    },
    "id": "YjbSzKIhSRxu",
    "outputId": "344638b5-3de2-4ace-d967-392780a9ac93"
   },
   "outputs": [],
   "source": [
    "%matplotlib inline\n",
    "plt.scatter(GS_X, GS_Y)\n",
    "plt.title('VDOP offset = ' + str(offset_C)+ '; Max offset = ' + str(n * step_))"
   ]
  },
  {
   "cell_type": "code",
   "execution_count": null,
   "metadata": {},
   "outputs": [],
   "source": [
    "%matplotlib inline\n",
    "fig = plt.figure(figsize=(15, 10))\n",
    "ax = fig.add_subplot()\n",
    "pt = ax.contour(Lon, Lat, VDOP, zdir='z', offset= -10, cmap=cm.jet, levels = 12)\n",
    "ax.clabel(pt, pt.levels, inline=True, fontsize=10)\n",
    "ax.scatter(GS_Y, GS_X, linewidths = 10,  color = 'black', marker = '^')\n",
    "fig.colorbar(pt)\n",
    "ax.set_title('GPS VDOP sigma = 12')\n",
    "ax.xaxis.set_minor_locator(MultipleLocator(0.5))\n",
    "ax.yaxis.set_minor_locator(MultipleLocator(0.5))\n",
    "ax.grid('minor')\n",
    "plt.savefig('Plots/optVDOP_VDOP.png')\n",
    "plt.show()"
   ]
  },
  {
   "cell_type": "code",
   "execution_count": null,
   "metadata": {
    "scrolled": false
   },
   "outputs": [],
   "source": [
    "%matplotlib inline\n",
    "fig = plt.figure(figsize=(15, 10))\n",
    "ax = fig.add_subplot()\n",
    "pt = ax.contour(Lon, Lat, HDOP, zdir='z', offset= -10, cmap=cm.jet, levels = 20, vmax = 350)\n",
    "ax.clabel(pt, pt.levels, inline=True, fontsize=10)\n",
    "ax.scatter(GS_Y, GS_X,  linewidths = 10, color = 'black', marker = '^')\n",
    "fig.colorbar(pt)\n",
    "ax.set_title('GPS HDOP sigma = 12')\n",
    "ax.xaxis.set_minor_locator(MultipleLocator(0.5))\n",
    "ax.yaxis.set_minor_locator(MultipleLocator(0.5))\n",
    "ax.grid('minor')\n",
    "plt.savefig('Plots/optVDOP_HDOP.png')\n",
    "plt.show()"
   ]
  },
  {
   "cell_type": "markdown",
   "metadata": {},
   "source": [
    "### Зона видимости оптимального VDOP"
   ]
  },
  {
   "cell_type": "code",
   "execution_count": null,
   "metadata": {},
   "outputs": [],
   "source": [
    "class_HDOP = BinByDOP(HDOP)"
   ]
  },
  {
   "cell_type": "code",
   "execution_count": null,
   "metadata": {},
   "outputs": [],
   "source": [
    "%matplotlib inline\n",
    "fig = plt.figure(figsize=(15, 10))\n",
    "ax = fig.add_subplot()\n",
    "pt = ax.contourf(Lon, Lat, class_HDOP, zdir='z', offset= -10)\n",
    "ax.scatter(GS_Y, GS_X,  linewidths = 10, color = 'black', marker = '^')\n",
    "fig.colorbar(pt)\n",
    "ax.set_title('GPS HDOP sigma = 12'  + '; Cells = ' + str(CalcSquare(HDOP)) + '; Square = ' +  str(round(CalcRealSquare(Lat, Lon, HDOP, h),2)) + ' km^2')\n",
    "ax.xaxis.set_minor_locator(MultipleLocator(0.5))\n",
    "ax.yaxis.set_minor_locator(MultipleLocator(0.5))\n",
    "ax.grid('minor')\n",
    "plt.savefig('Plots/optVDOP_HDOP_filter.png')\n",
    "plt.show()"
   ]
  },
  {
   "cell_type": "code",
   "execution_count": null,
   "metadata": {},
   "outputs": [],
   "source": [
    "class_VDOP = BinByDOP(VDOP)"
   ]
  },
  {
   "cell_type": "code",
   "execution_count": null,
   "metadata": {
    "scrolled": false
   },
   "outputs": [],
   "source": [
    "%matplotlib inline\n",
    "fig = plt.figure(figsize=(15, 10))\n",
    "ax = fig.add_subplot()\n",
    "pt = ax.contourf(Lon, Lat, class_VDOP, zdir='z', offset= -10)\n",
    "ax.scatter(GS_Y, GS_X,  linewidths = 10, color = 'black', marker = '^')\n",
    "fig.colorbar(pt)\n",
    "ax.set_title('GPS VDOP sigma = 12'  + '; Cells = ' + str(CalcSquare(VDOP)) + '; Square = ' +  str(round(CalcRealSquare(Lat, Lon, VDOP, h),2)) + ' km^2')\n",
    "ax.xaxis.set_minor_locator(MultipleLocator(0.5))\n",
    "ax.yaxis.set_minor_locator(MultipleLocator(0.5))\n",
    "ax.grid('minor')\n",
    "plt.savefig('Plots/optVDOP_VDOP_filter.png')\n",
    "plt.show()"
   ]
  },
  {
   "cell_type": "markdown",
   "metadata": {},
   "source": [
    "# Зависимость от длины базы станций"
   ]
  },
  {
   "cell_type": "code",
   "execution_count": null,
   "metadata": {},
   "outputs": [],
   "source": [
    "delta = []\n",
    "offset_C = 0\n",
    "for i in range(n):\n",
    "    offset_C += step_\n",
    "    GS_X = np.array([X_c + offset_C * cos(315 * pi / 180), X_c + offset_C * cos(225 * pi / 180), X_c, X_c + offset_C * cos(135 * pi / 180), X_c + offset_C * cos(45 * pi / 180)]) \n",
    "    delta.append(GetDiffBetweenGS(GS_X))"
   ]
  },
  {
   "cell_type": "code",
   "execution_count": null,
   "metadata": {},
   "outputs": [],
   "source": [
    "delta"
   ]
  },
  {
   "cell_type": "code",
   "execution_count": null,
   "metadata": {},
   "outputs": [],
   "source": [
    "'''%matplotlib inline\n",
    "fig = plt.figure(figsize=(15, 10))\n",
    "ax = fig.add_subplot()\n",
    "plt.plot(delta, Hcells, label = 'HDOP Cells')\n",
    "plt.plot(delta, Vcells, label = 'VDOP Cells')\n",
    "ax.set_title('Cell Count sigma = 12')\n",
    "ax.xaxis.set_minor_locator(MultipleLocator(50))\n",
    "ax.yaxis.set_minor_locator(MultipleLocator(50))\n",
    "ax.grid('minor')\n",
    "plt.legend()\n",
    "plt.xlabel('km')\n",
    "plt.ylabel('Count')\n",
    "plt.savefig('Plots/CellsByDelta.png')\n",
    "plt.show()\n",
    "'''"
   ]
  },
  {
   "cell_type": "code",
   "execution_count": null,
   "metadata": {},
   "outputs": [],
   "source": [
    "%matplotlib inline\n",
    "fig = plt.figure(figsize=(15, 10))\n",
    "ax = fig.add_subplot()\n",
    "plt.plot(delta, Hsqueare, label = 'HDOP sqaure')\n",
    "plt.plot(delta, Vsqueare, label = 'VDOP sqaure')\n",
    "ax.set_title('Square sigma = 12')\n",
    "ax.xaxis.set_minor_locator(MultipleLocator(50))\n",
    "ax.yaxis.set_minor_locator(MultipleLocator(10000))\n",
    "ax.grid('minor')\n",
    "plt.legend()\n",
    "plt.xlabel('km')\n",
    "plt.ylabel('km^2')\n",
    "plt.savefig('Plots/SquareByDelta.png')\n",
    "plt.show()"
   ]
  },
  {
   "cell_type": "code",
   "execution_count": null,
   "metadata": {},
   "outputs": [],
   "source": [
    "\n",
    "%matplotlib inline\n",
    "fig = plt.figure(figsize=(15, 10))\n",
    "ax = fig.add_subplot()\n",
    "plt.plot(delta, Hsqueare, label = 'HDOP sqaure')\n",
    "ax.set_title('Square sigma = 12')\n",
    "ax.xaxis.set_minor_locator(MultipleLocator(50))\n",
    "#ax.yaxis.set_minor_locator(MultipleLocator(10000))\n",
    "ax.grid('minor')\n",
    "plt.legend()\n",
    "plt.xlabel('km')\n",
    "plt.ylabel('km^2')\n",
    "plt.savefig('Plots/SquareByDeltaHDOP.png')\n",
    "plt.show()\n"
   ]
  },
  {
   "cell_type": "code",
   "execution_count": null,
   "metadata": {},
   "outputs": [],
   "source": [
    "'''\n",
    "%matplotlib inline\n",
    "fig = plt.figure(figsize=(15, 10))\n",
    "ax = fig.add_subplot()\n",
    "plt.plot(delta, Zone, label = 'HDOP Zone sqaure')\n",
    "ax.set_title('Square sigma = 12')\n",
    "ax.xaxis.set_minor_locator(MultipleLocator(50))\n",
    "#ax.yaxis.set_minor_locator(MultipleLocator(10000))\n",
    "ax.grid('minor')\n",
    "plt.legend()\n",
    "plt.xlabel('km')\n",
    "plt.ylabel('km^2')\n",
    "plt.savefig('Plots/SquareByDeltaHDOPZone.png')\n",
    "plt.show()\n",
    "'''"
   ]
  },
  {
   "cell_type": "code",
   "execution_count": null,
   "metadata": {},
   "outputs": [],
   "source": [
    "'''\n",
    "index_max_HDOP = np.argmax(Zone)\n",
    "delta[index_max_HDOP]\n",
    "'''"
   ]
  },
  {
   "cell_type": "code",
   "execution_count": null,
   "metadata": {},
   "outputs": [],
   "source": [
    "\n",
    "%matplotlib inline\n",
    "fig = plt.figure(figsize=(15, 10))\n",
    "ax = fig.add_subplot()\n",
    "plt.plot(delta, Vsqueare, label = 'VDOP sqaure')\n",
    "ax.set_title('Square sigma = 12')\n",
    "ax.xaxis.set_minor_locator(MultipleLocator(50))\n",
    "#ax.yaxis.set_minor_locator(MultipleLocator(10000))\n",
    "ax.grid('minor')\n",
    "plt.legend()\n",
    "plt.xlabel('km')\n",
    "plt.ylabel('km^2')\n",
    "plt.savefig('Plots/SquareByDeltaVDOP.png')\n",
    "plt.show()\n"
   ]
  },
  {
   "cell_type": "code",
   "execution_count": null,
   "metadata": {},
   "outputs": [],
   "source": [
    "\n",
    "index_max_VDOP = np.argmax(Vsqueare)\n",
    "index_max_HDOP = np.argmax(Hsqueare)\n"
   ]
  },
  {
   "cell_type": "code",
   "execution_count": null,
   "metadata": {},
   "outputs": [],
   "source": [
    "delta[index_max_VDOP]"
   ]
  },
  {
   "cell_type": "code",
   "execution_count": null,
   "metadata": {},
   "outputs": [],
   "source": [
    "delta[index_max_HDOP]"
   ]
  },
  {
   "cell_type": "markdown",
   "metadata": {},
   "source": [
    "### Нахождение зоны обслуживания оптимальной конфигурации"
   ]
  },
  {
   "cell_type": "code",
   "execution_count": null,
   "metadata": {},
   "outputs": [],
   "source": [
    "#Optimum HDOP\n",
    "h = 0.005\n",
    "X_c = 0\n",
    "Y_c = 39\n",
    "Lat = np.arange(X_c - 2, X_c + 2, h)\n",
    "Lon = np.arange(Y_c - 2, Y_c + 2, h) \n",
    "Lat, Lon = np.meshgrid(Lat, Lon)\n",
    "k = len(Lat)\n",
    "l = len(Lat[0])\n",
    "\n",
    "offset_C = max_HDOP[1]\n",
    "\n",
    "GS_X = np.array([X_c + offset_C * cos(315 * pi / 180), X_c + offset_C * cos(225 * pi / 180), X_c, X_c + offset_C * cos(135 * pi / 180), X_c + offset_C * cos(45 * pi / 180)]) \n",
    "GS_Y = np.array([Y_c + offset_C * sin(315 * pi / 180), Y_c + offset_C * sin(225 * pi / 180), Y_c, Y_c + offset_C * sin(135 * pi / 180), Y_c + offset_C * sin(45 * pi / 180)] ) \n",
    "\n",
    "E = ServiceZone(Lat, Lon, GS_X, GS_Y, h)"
   ]
  },
  {
   "cell_type": "code",
   "execution_count": null,
   "metadata": {
    "scrolled": false
   },
   "outputs": [],
   "source": [
    "%matplotlib inline\n",
    "fig = plt.figure(figsize=(15, 10))\n",
    "ax = fig.add_subplot()\n",
    "pt = ax.contourf(Lon, Lat, E, zdir='z', offset= -10)\n",
    "ax.scatter(GS_Y, GS_X,  linewidths = 10, color = 'black', marker = '^')\n",
    "fig.colorbar(pt)\n",
    "ax.set_title('GPS HDOP sigma = 12'  + '; Cells = ' + str(CalcSquare(HDOP)) + '; Square = ' +  str(round(CalcRealSquareByBinMat(Lat, Lon, E, h),2)) + ' km^2')\n",
    "ax.xaxis.set_minor_locator(MultipleLocator(0.5))\n",
    "ax.yaxis.set_minor_locator(MultipleLocator(0.5))\n",
    "ax.grid('minor')\n",
    "plt.savefig('Plots/optVDOP_HDOP_filter_service.png')\n",
    "plt.show()"
   ]
  },
  {
   "cell_type": "code",
   "execution_count": null,
   "metadata": {},
   "outputs": [],
   "source": [
    "GetDiffBetweenGS([GS_X[0], GS_X[1]])"
   ]
  },
  {
   "cell_type": "code",
   "execution_count": null,
   "metadata": {},
   "outputs": [],
   "source": []
  },
  {
   "cell_type": "code",
   "execution_count": null,
   "metadata": {},
   "outputs": [],
   "source": []
  },
  {
   "cell_type": "code",
   "execution_count": null,
   "metadata": {},
   "outputs": [],
   "source": []
  },
  {
   "cell_type": "code",
   "execution_count": null,
   "metadata": {},
   "outputs": [],
   "source": []
  },
  {
   "cell_type": "code",
   "execution_count": null,
   "metadata": {},
   "outputs": [],
   "source": []
  },
  {
   "cell_type": "code",
   "execution_count": null,
   "metadata": {},
   "outputs": [],
   "source": []
  }
 ],
 "metadata": {
  "colab": {
   "collapsed_sections": [],
   "name": "Untitled1.ipynb",
   "provenance": []
  },
  "kernelspec": {
   "display_name": "Python 3",
   "language": "python",
   "name": "python3"
  },
  "language_info": {
   "codemirror_mode": {
    "name": "ipython",
    "version": 3
   },
   "file_extension": ".py",
   "mimetype": "text/x-python",
   "name": "python",
   "nbconvert_exporter": "python",
   "pygments_lexer": "ipython3",
   "version": "3.8.8"
  }
 },
 "nbformat": 4,
 "nbformat_minor": 1
}
