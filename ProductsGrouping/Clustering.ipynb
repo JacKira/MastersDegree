{
 "cells": [
  {
   "cell_type": "code",
   "execution_count": 17,
   "id": "3362ab17",
   "metadata": {},
   "outputs": [
    {
     "name": "stderr",
     "output_type": "stream",
     "text": [
      "[nltk_data] Downloading package punkt to\n",
      "[nltk_data]     C:\\Users\\fejzullin\\AppData\\Roaming\\nltk_data...\n",
      "[nltk_data]   Package punkt is already up-to-date!\n"
     ]
    }
   ],
   "source": [
    "import pandas as pd\n",
    "import numpy as np\n",
    "from matplotlib import pyplot as plt\n",
    "%matplotlib inline\n",
    "import plotly.express as px\n",
    "import collections\n",
    "\n",
    "#Libraries for preprocessing\n",
    "from gensim.parsing.preprocessing import remove_stopwords\n",
    "import string\n",
    "from nltk.stem import PorterStemmer\n",
    "from nltk.tokenize import word_tokenize\n",
    "import webcolors\n",
    "\n",
    "#Download once if using NLTK for preprocessing\n",
    "import nltk\n",
    "nltk.download('punkt')\n",
    "\n",
    "#Libraries for vectorisation\n",
    "from sklearn.feature_extraction.text import CountVectorizer, TfidfVectorizer, HashingVectorizer\n",
    "from sklearn.decomposition import LatentDirichletAllocation\n",
    "from sklearn.model_selection import GridSearchCV\n",
    "from fuzzywuzzy import fuzz\n",
    "\n",
    "#Libraries for clustering\n",
    "from sklearn.cluster import KMeans\n",
    "\n",
    "#Load data set\n",
    "df = pd.read_csv('Products.csv', encoding= 'ANSI')\n",
    "text1 = df.PRODUCTTYPE.unique()"
   ]
  },
  {
   "cell_type": "code",
   "execution_count": 18,
   "id": "0a7bea42",
   "metadata": {},
   "outputs": [],
   "source": [
    "def stemSentence(sentence):\n",
    "    porter = PorterStemmer()\n",
    "    token_words = word_tokenize(sentence)\n",
    "    stem_sentence = [porter.stem(word) for word in token_words]\n",
    "    return ' '.join(stem_sentence)\n",
    "\n",
    "text3 = pd.Series([stemSentence(x.replace('/', ' ')) for x in text1])"
   ]
  },
  {
   "cell_type": "code",
   "execution_count": 19,
   "id": "31a56690",
   "metadata": {},
   "outputs": [
    {
     "data": {
      "text/plain": [
       "0                  крем гель для душа\n",
       "1            парфюмерная вода женская\n",
       "2      парфюмированный скраб для тела\n",
       "3       парфюмированный крем для тела\n",
       "4          парфюмированный дезодорант\n",
       "                    ...              \n",
       "528                   масло для ванны\n",
       "529      молочко для интимной гигиены\n",
       "530                    маска защитная\n",
       "531                  краска для волос\n",
       "532            губка для душа и ванны\n",
       "Length: 533, dtype: object"
      ]
     },
     "execution_count": 19,
     "metadata": {},
     "output_type": "execute_result"
    }
   ],
   "source": [
    "text3"
   ]
  },
  {
   "cell_type": "code",
   "execution_count": 31,
   "id": "486c73e8",
   "metadata": {},
   "outputs": [],
   "source": [
    "stop_w = [\"для\", \"на\", \"и\", \"средство\", \"набор\", \"после\"]"
   ]
  },
  {
   "cell_type": "code",
   "execution_count": 32,
   "id": "5d853c0b",
   "metadata": {},
   "outputs": [],
   "source": [
    "# vectorizer_ntf = TfidfVectorizer(analyzer='word',ngram_range=(1,2), stop_words = stop_w)\n",
    "# X_ntf = vectorizer_ntf.fit_transform(text3)\n",
    "vectorizer_hash = HashingVectorizer(analyzer='word',ngram_range=(1,2), stop_words = stop_w)\n",
    "X_ntf = vectorizer_hash.fit_transform(text3)"
   ]
  },
  {
   "cell_type": "code",
   "execution_count": 33,
   "id": "302657ac",
   "metadata": {
    "scrolled": true
   },
   "outputs": [],
   "source": [
    "# sse={}\n",
    "# for k in np.arange(100,900,100):\n",
    "#     kmeans = KMeans(n_clusters=k, verbose = True).fit(X_ntf)\n",
    "#     sse[k] = kmeans.inertia_\n",
    "# plt.plot(list(sse.keys()),list(sse.values()))\n",
    "# plt.xlabel('Values for K')\n",
    "# plt.ylabel('SSE')\n",
    "# plt.show();"
   ]
  },
  {
   "cell_type": "code",
   "execution_count": 34,
   "id": "9c9375b4",
   "metadata": {},
   "outputs": [],
   "source": [
    "# plt.plot(list(sse.keys()),list(sse.values()))\n",
    "# plt.xlabel('Values for K')\n",
    "# plt.ylabel('SSE')\n",
    "# plt.show();"
   ]
  },
  {
   "cell_type": "code",
   "execution_count": 35,
   "id": "19468121",
   "metadata": {
    "scrolled": true
   },
   "outputs": [
    {
     "name": "stdout",
     "output_type": "stream",
     "text": [
      "Initialization complete\n",
      "Iteration 0, inertia 624.612869954549\n",
      "Iteration 1, inertia 352.2707568638691\n",
      "Iteration 2, inertia 347.7690801085768\n",
      "Iteration 3, inertia 341.3389533352066\n",
      "Iteration 4, inertia 339.4347232891601\n",
      "Iteration 5, inertia 339.17382152314514\n",
      "Converged at iteration 5: strict convergence.\n",
      "Initialization complete\n",
      "Iteration 0, inertia 622.4733982250544\n",
      "Iteration 1, inertia 346.84931639838265\n",
      "Iteration 2, inertia 339.52022739294426\n",
      "Iteration 3, inertia 338.6765275305651\n",
      "Iteration 4, inertia 338.36520928512465\n",
      "Iteration 5, inertia 338.06898674203495\n",
      "Converged at iteration 5: strict convergence.\n",
      "Initialization complete\n",
      "Iteration 0, inertia 622.6553732227023\n",
      "Iteration 1, inertia 356.13624384488645\n",
      "Iteration 2, inertia 345.00281309343734\n",
      "Iteration 3, inertia 343.1942997968373\n",
      "Iteration 4, inertia 342.5055664435472\n",
      "Iteration 5, inertia 341.8343781342126\n",
      "Iteration 6, inertia 341.4695991861369\n",
      "Converged at iteration 6: strict convergence.\n",
      "Initialization complete\n",
      "Iteration 0, inertia 618.048158205156\n",
      "Iteration 1, inertia 348.5897698216279\n",
      "Iteration 2, inertia 336.1395958013445\n",
      "Iteration 3, inertia 335.3656206768843\n",
      "Iteration 4, inertia 335.08268731151225\n",
      "Iteration 5, inertia 334.80371682085445\n",
      "Iteration 6, inertia 334.6866249686409\n",
      "Converged at iteration 6: strict convergence.\n",
      "Initialization complete\n",
      "Iteration 0, inertia 623.7112842806322\n",
      "Iteration 1, inertia 351.1426730856232\n",
      "Iteration 2, inertia 342.36476998622686\n",
      "Iteration 3, inertia 341.08393063926786\n",
      "Iteration 4, inertia 340.8861959789958\n",
      "Iteration 5, inertia 340.7171134080194\n",
      "Iteration 6, inertia 340.42236720770336\n",
      "Converged at iteration 6: strict convergence.\n",
      "Initialization complete\n",
      "Iteration 0, inertia 633.9724145388134\n",
      "Iteration 1, inertia 349.58440152592084\n",
      "Iteration 2, inertia 340.9930055144409\n",
      "Iteration 3, inertia 339.97960380643116\n",
      "Iteration 4, inertia 339.8882006164143\n",
      "Converged at iteration 4: strict convergence.\n",
      "Initialization complete\n",
      "Iteration 0, inertia 626.6377911384981\n",
      "Iteration 1, inertia 350.07067954324464\n",
      "Iteration 2, inertia 338.10716111790714\n",
      "Iteration 3, inertia 336.144421527894\n",
      "Iteration 4, inertia 335.269379769454\n",
      "Iteration 5, inertia 335.0523085792885\n",
      "Converged at iteration 5: strict convergence.\n",
      "Initialization complete\n",
      "Iteration 0, inertia 615.7489734741328\n",
      "Iteration 1, inertia 355.2134748633174\n",
      "Iteration 2, inertia 348.7757409289993\n",
      "Iteration 3, inertia 344.8478387530202\n",
      "Iteration 4, inertia 342.04878430739535\n",
      "Iteration 5, inertia 341.85566112802155\n",
      "Converged at iteration 5: strict convergence.\n",
      "Initialization complete\n",
      "Iteration 0, inertia 628.4620696882297\n",
      "Iteration 1, inertia 353.9058532337968\n",
      "Iteration 2, inertia 342.68953736430393\n",
      "Iteration 3, inertia 340.54365151656935\n",
      "Iteration 4, inertia 339.46382709388143\n",
      "Converged at iteration 4: strict convergence.\n",
      "Initialization complete\n",
      "Iteration 0, inertia 626.4274353891965\n",
      "Iteration 1, inertia 347.61697228514123\n",
      "Iteration 2, inertia 342.7242274773877\n",
      "Iteration 3, inertia 340.5701555992077\n",
      "Iteration 4, inertia 339.75294657931823\n",
      "Iteration 5, inertia 339.2754317349067\n",
      "Converged at iteration 5: strict convergence.\n"
     ]
    },
    {
     "data": {
      "text/plain": [
       "KMeans(n_clusters=50, verbose=True)"
      ]
     },
     "execution_count": 35,
     "metadata": {},
     "output_type": "execute_result"
    }
   ],
   "source": [
    "kmeans = KMeans(n_clusters= 50, verbose = True)\n",
    "kmeans.fit(X_ntf)\n"
   ]
  },
  {
   "cell_type": "code",
   "execution_count": 36,
   "id": "d5f741d5",
   "metadata": {},
   "outputs": [],
   "source": [
    "result = pd.DataFrame(text3)\n",
    "result['cluster'] = kmeans.predict(X_ntf)"
   ]
  },
  {
   "cell_type": "code",
   "execution_count": 37,
   "id": "f46285bf",
   "metadata": {
    "scrolled": true
   },
   "outputs": [
    {
     "data": {
      "text/html": [
       "<div>\n",
       "<style scoped>\n",
       "    .dataframe tbody tr th:only-of-type {\n",
       "        vertical-align: middle;\n",
       "    }\n",
       "\n",
       "    .dataframe tbody tr th {\n",
       "        vertical-align: top;\n",
       "    }\n",
       "\n",
       "    .dataframe thead th {\n",
       "        text-align: right;\n",
       "    }\n",
       "</style>\n",
       "<table border=\"1\" class=\"dataframe\">\n",
       "  <thead>\n",
       "    <tr style=\"text-align: right;\">\n",
       "      <th></th>\n",
       "      <th>PRODUCTTYPE</th>\n",
       "      <th>cluster</th>\n",
       "    </tr>\n",
       "  </thead>\n",
       "  <tbody>\n",
       "    <tr>\n",
       "      <th>140</th>\n",
       "      <td>кольцо для смешивания</td>\n",
       "      <td>0</td>\n",
       "    </tr>\n",
       "    <tr>\n",
       "      <th>220</th>\n",
       "      <td>набор подарочный</td>\n",
       "      <td>0</td>\n",
       "    </tr>\n",
       "    <tr>\n",
       "      <th>221</th>\n",
       "      <td>средство для шерсти</td>\n",
       "      <td>0</td>\n",
       "    </tr>\n",
       "    <tr>\n",
       "      <th>404</th>\n",
       "      <td>пакет</td>\n",
       "      <td>0</td>\n",
       "    </tr>\n",
       "    <tr>\n",
       "      <th>88</th>\n",
       "      <td>скребок для языка</td>\n",
       "      <td>0</td>\n",
       "    </tr>\n",
       "    <tr>\n",
       "      <th>...</th>\n",
       "      <td>...</td>\n",
       "      <td>...</td>\n",
       "    </tr>\n",
       "    <tr>\n",
       "      <th>496</th>\n",
       "      <td>глина для душа</td>\n",
       "      <td>48</td>\n",
       "    </tr>\n",
       "    <tr>\n",
       "      <th>332</th>\n",
       "      <td>парфюмированное молочко для душа</td>\n",
       "      <td>48</td>\n",
       "    </tr>\n",
       "    <tr>\n",
       "      <th>532</th>\n",
       "      <td>губка для душа и ванны</td>\n",
       "      <td>48</td>\n",
       "    </tr>\n",
       "    <tr>\n",
       "      <th>472</th>\n",
       "      <td>праймер для ресниц</td>\n",
       "      <td>49</td>\n",
       "    </tr>\n",
       "    <tr>\n",
       "      <th>59</th>\n",
       "      <td>праймер для век</td>\n",
       "      <td>49</td>\n",
       "    </tr>\n",
       "  </tbody>\n",
       "</table>\n",
       "<p>533 rows × 2 columns</p>\n",
       "</div>"
      ],
      "text/plain": [
       "                          PRODUCTTYPE  cluster\n",
       "140             кольцо для смешивания        0\n",
       "220                  набор подарочный        0\n",
       "221               средство для шерсти        0\n",
       "404                             пакет        0\n",
       "88                  скребок для языка        0\n",
       "..                                ...      ...\n",
       "496                    глина для душа       48\n",
       "332  парфюмированное молочко для душа       48\n",
       "532            губка для душа и ванны       48\n",
       "472                праймер для ресниц       49\n",
       "59                    праймер для век       49\n",
       "\n",
       "[533 rows x 2 columns]"
      ]
     },
     "metadata": {},
     "output_type": "display_data"
    }
   ],
   "source": [
    "result = result.rename(columns={0:'PRODUCTTYPE'})\n",
    "display(result.sort_values('cluster'))"
   ]
  },
  {
   "cell_type": "code",
   "execution_count": 38,
   "id": "36f6152e",
   "metadata": {},
   "outputs": [],
   "source": [
    "result = result.sort_values('cluster', ascending=False).drop_duplicates('PRODUCTTYPE').sort_index()"
   ]
  },
  {
   "cell_type": "code",
   "execution_count": 39,
   "id": "9e1ca907",
   "metadata": {},
   "outputs": [],
   "source": [
    "result[['cluster', 'PRODUCTTYPE']].sort_values('cluster').to_excel('NewClusteringProducts.xlsx', index = False) "
   ]
  },
  {
   "cell_type": "code",
   "execution_count": null,
   "id": "26f823da",
   "metadata": {},
   "outputs": [],
   "source": []
  }
 ],
 "metadata": {
  "kernelspec": {
   "display_name": "Python 3 (ipykernel)",
   "language": "python",
   "name": "python3"
  },
  "language_info": {
   "codemirror_mode": {
    "name": "ipython",
    "version": 3
   },
   "file_extension": ".py",
   "mimetype": "text/x-python",
   "name": "python",
   "nbconvert_exporter": "python",
   "pygments_lexer": "ipython3",
   "version": "3.9.7"
  }
 },
 "nbformat": 4,
 "nbformat_minor": 5
}
